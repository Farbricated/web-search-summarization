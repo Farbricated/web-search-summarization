{
  "nbformat": 4,
  "nbformat_minor": 0,
  "metadata": {
    "colab": {
      "provenance": [],
      "gpuType": "V28"
    },
    "kernelspec": {
      "name": "python3",
      "display_name": "Python 3"
    },
    "language_info": {
      "name": "python"
    },
    "accelerator": "TPU"
  },
  "cells": [
    {
      "cell_type": "code",
      "execution_count": null,
      "metadata": {
        "id": "nYl_4GZ0c26l"
      },
      "outputs": [],
      "source": [
        "pip install requests beautifulsoup4 google-generativeai gradio google-search-results --quiet\n"
      ]
    },
    {
      "cell_type": "code",
      "source": [
        "from serpapi import GoogleSearch\n",
        "\n",
        "# Replace with your SerpAPI Key (Get a free key from https://serpapi.com/)\n",
        "SERPAPI_KEY = \"here\"\n",
        "\n",
        "def google_search(query):\n",
        "    params = {\n",
        "        \"q\": query,\n",
        "        \"api_key\": SERPAPI_KEY,\n",
        "        \"num\": 5\n",
        "    }\n",
        "    search = GoogleSearch(params)\n",
        "    results = search.get_dict()\n",
        "\n",
        "    if \"organic_results\" in results and len(results[\"organic_results\"]) > 0:\n",
        "        first_result = results[\"organic_results\"][0]\n",
        "        return first_result[\"title\"], first_result[\"link\"]\n",
        "\n",
        "    return None, None\n",
        "\n",
        "print(google_search(\"latest AI news\"))\n"
      ],
      "metadata": {
        "colab": {
          "base_uri": "https://localhost:8080/"
        },
        "id": "zGx8RAaMdSrz",
        "outputId": "fb893ed1-ed21-4564-b761-4c16fc1321f6"
      },
      "execution_count": null,
      "outputs": [
        {
          "output_type": "stream",
          "name": "stdout",
          "text": [
            "('AI News | Latest AI News, Analysis & Events', 'https://www.artificialintelligence-news.com/')\n"
          ]
        }
      ]
    },
    {
      "cell_type": "code",
      "source": [
        "import requests\n",
        "import json\n",
        "\n",
        "# Set your Google Gemini API key (Get it from https://aistudio.google.com/)\n",
        "GEMINI_API_KEY = \"Here\"\n",
        "\n",
        "def ask_gemini(prompt):\n",
        "    url = f\"https://generativelanguage.googleapis.com/v1beta/models/gemini-2.0-flash:generateContent?key={GEMINI_API_KEY}\"\n",
        "\n",
        "    headers = {\"Content-Type\": \"application/json\"}\n",
        "    data = {\n",
        "        \"contents\": [{\"parts\": [{\"text\": prompt}]}]\n",
        "    }\n",
        "\n",
        "    response = requests.post(url, headers=headers, data=json.dumps(data))\n",
        "\n",
        "    if response.status_code == 200:\n",
        "        return response.json()[\"candidates\"][0][\"content\"][\"parts\"][0][\"text\"]\n",
        "    else:\n",
        "        return f\"Error: {response.status_code}, {response.text}\"\n",
        "\n",
        "# Test Gemini AI\n",
        "print(ask_gemini(\"Explain how AI works\"))\n"
      ],
      "metadata": {
        "colab": {
          "base_uri": "https://localhost:8080/"
        },
        "id": "ineqq9ufdXUZ",
        "outputId": "cab4c098-57fd-4547-a2ee-71e5d7d1dfb4"
      },
      "execution_count": null,
      "outputs": [
        {
          "output_type": "stream",
          "name": "stdout",
          "text": [
            "Okay, let's break down how Artificial Intelligence (AI) works. It's a broad field, so I'll give you a general overview and then touch on some key aspects.\n",
            "\n",
            "**In a Nutshell:**\n",
            "\n",
            "AI is about creating machines that can perform tasks that typically require human intelligence. These tasks include:\n",
            "\n",
            "*   **Learning:**  Acquiring information and rules for using that information.\n",
            "*   **Reasoning:**  Using logic and inference to draw conclusions.\n",
            "*   **Problem-solving:**  Finding solutions to complex issues.\n",
            "*   **Perception:**  Interpreting sensory input (like vision, sound, or text).\n",
            "*   **Natural Language Processing (NLP):** Understanding and generating human language.\n",
            "\n",
            "**The Core Principles:**\n",
            "\n",
            "At its heart, AI relies on a combination of:\n",
            "\n",
            "1.  **Algorithms:**  Sets of instructions that a computer follows to solve a specific problem. Think of them as recipes for the computer.  Different algorithms are suited for different tasks.\n",
            "\n",
            "2.  **Data:**  The raw material that AI systems use to learn and make decisions.  The more data, and the better the data quality, the better the AI's performance tends to be.\n",
            "\n",
            "3.  **Computation Power:** The ability to process vast amounts of data and execute complex algorithms quickly. Advances in hardware (like GPUs) have been critical to the recent surge in AI.\n",
            "\n",
            "**Key Approaches to AI:**\n",
            "\n",
            "Here are some major branches of AI:\n",
            "\n",
            "*   **Machine Learning (ML):**  This is the most prevalent type of AI today.  Instead of explicitly programming a computer to do something, you \"train\" it by feeding it data. The machine learns patterns and relationships from the data and uses those patterns to make predictions or decisions on new, unseen data.\n",
            "\n",
            "    *   **Supervised Learning:**  You provide the machine with labeled data (input-output pairs). The machine learns to map the inputs to the correct outputs.  Examples:\n",
            "        *   Image classification:  Showing the machine images of cats and dogs and telling it which is which.  Then, when you show it a new image, it can predict whether it's a cat or a dog.\n",
            "        *   Spam detection:  Showing the machine emails labeled as \"spam\" or \"not spam.\"  It learns to identify characteristics of spam emails.\n",
            "    *   **Unsupervised Learning:**  You provide the machine with unlabeled data. The machine tries to find patterns and structure in the data on its own.  Examples:\n",
            "        *   Clustering:  Grouping customers into segments based on their purchasing behavior.\n",
            "        *   Anomaly detection:  Identifying unusual transactions in a credit card dataset.\n",
            "    *   **Reinforcement Learning:**  The machine learns by interacting with an environment and receiving rewards or penalties for its actions.  It learns to make decisions that maximize its cumulative reward.  Examples:\n",
            "        *   Training a robot to walk.\n",
            "        *   Teaching an AI to play games like chess or Go.\n",
            "\n",
            "*   **Deep Learning (DL):**  A subfield of machine learning that uses artificial neural networks with many layers (hence \"deep\").  These networks are inspired by the structure of the human brain.  Deep learning is particularly good at handling complex, unstructured data like images, audio, and text.  It's behind many recent advances in AI, such as:\n",
            "\n",
            "    *   Image recognition\n",
            "    *   Speech recognition\n",
            "    *   Natural language processing\n",
            "\n",
            "*   **Rule-Based Systems (Expert Systems):**  These systems rely on a set of predefined rules that are created by human experts.  When a condition is met, the system takes a specific action.  While less flexible than machine learning, they can be useful in situations where the rules are well-defined and the data is limited.  Example:\n",
            "\n",
            "    *   Medical diagnosis systems that use rules based on symptoms to suggest possible diagnoses.\n",
            "\n",
            "*   **Natural Language Processing (NLP):** This focuses on enabling computers to understand, interpret, and generate human language. NLP techniques are used in:\n",
            "\n",
            "    *   Chatbots\n",
            "    *   Machine translation\n",
            "    *   Sentiment analysis\n",
            "    *   Text summarization\n",
            "\n",
            "*   **Computer Vision:** This is about enabling computers to \"see\" and interpret images and videos. Applications include:\n",
            "\n",
            "    *   Object detection\n",
            "    *   Facial recognition\n",
            "    *   Autonomous driving\n",
            "\n",
            "**The Machine Learning Process (simplified):**\n",
            "\n",
            "1.  **Data Collection:** Gather relevant data for the task.\n",
            "2.  **Data Preparation:** Clean and pre-process the data (e.g., handle missing values, normalize data).\n",
            "3.  **Model Selection:** Choose an appropriate machine learning algorithm (e.g., decision tree, neural network, support vector machine).\n",
            "4.  **Training:** Feed the prepared data to the model so it can learn the underlying patterns.  This involves adjusting the model's internal parameters to minimize errors.\n",
            "5.  **Evaluation:** Test the trained model on a separate dataset (the \"test set\") to see how well it generalizes to new, unseen data.  Metrics are used to measure performance (e.g., accuracy, precision, recall).\n",
            "6.  **Tuning:** Adjust the model's parameters (e.g., learning rate, number of layers) to improve performance.  This often involves iterating between training and evaluation.\n",
            "7.  **Deployment:**  Integrate the trained model into a real-world application.\n",
            "8.  **Monitoring:** Continuously monitor the model's performance and retrain it as needed to maintain accuracy and adapt to changing data.\n",
            "\n",
            "**Important Considerations:**\n",
            "\n",
            "*   **Bias:** AI models can inherit biases from the data they are trained on.  This can lead to unfair or discriminatory outcomes.  It's crucial to address bias in data and algorithms.\n",
            "*   **Explainability:** Some AI models (especially deep learning models) are \"black boxes,\" meaning it's difficult to understand why they make the decisions they do.  Explainable AI (XAI) is an area of research focused on making AI more transparent and understandable.\n",
            "*   **Ethics:** The use of AI raises ethical questions about privacy, security, and job displacement.  It's important to develop AI responsibly and consider its potential impact on society.\n",
            "\n",
            "**In Summary:**\n",
            "\n",
            "AI is a powerful set of technologies that can automate tasks, make predictions, and solve complex problems. It relies on algorithms, data, and computation power. Machine learning, especially deep learning, is a key driver of recent AI advancements.  However, it's important to be aware of the limitations and ethical considerations associated with AI.\n",
            "\n"
          ]
        }
      ]
    },
    {
      "cell_type": "code",
      "source": [
        "from bs4 import BeautifulSoup\n",
        "\n",
        "def summarize_page(url):\n",
        "    try:\n",
        "        response = requests.get(url)\n",
        "        soup = BeautifulSoup(response.text, \"html.parser\")\n",
        "\n",
        "        paragraphs = soup.find_all(\"p\")\n",
        "        text = ' '.join([p.text for p in paragraphs if len(p.text) > 50])[:3000]\n",
        "\n",
        "        return ask_gemini(f\"Summarize this article in 3 sentences:\\n{text}\")\n",
        "\n",
        "    except Exception as e:\n",
        "        return f\"Error extracting content: {str(e)}\"\n",
        "\n",
        "\n",
        "print(summarize_page(\"https://www.bbc.com/news/technology\"))\n"
      ],
      "metadata": {
        "colab": {
          "base_uri": "https://localhost:8080/"
        },
        "id": "rBBdgLsggVZr",
        "outputId": "86ca8e05-5bb1-4962-f3ae-d21564ba0adb"
      },
      "execution_count": null,
      "outputs": [
        {
          "output_type": "stream",
          "name": "stdout",
          "text": [
            "This BBC article covers a diverse range of science and technology topics, from the experience of the first Neuralink patient to advancements in clean fuel and insights into human evolution. It also explores current trends like AI, digital safety, and innovative approaches to health and environmental challenges.  The report encompasses a variety of timely subjects, touching on breakthroughs, cultural trends and scientific discoveries.\n",
            "\n"
          ]
        }
      ]
    },
    {
      "cell_type": "code",
      "source": [
        "import gradio as gr\n",
        "\n",
        "def search_and_summarize(query):\n",
        "    title, url = google_search(query)\n",
        "\n",
        "    if title and url:\n",
        "        summary = summarize_page(url)\n",
        "        return f\"**Top Result:** {title}\\n\\n**Summary:** {summary}\\n\\n**Read more:** {url}\"\n",
        "\n",
        "    return \"No results found.\"\n",
        "\n",
        "gr.Interface(fn=search_and_summarize, inputs=\"text\", outputs=\"text\").launch(share=True)\n"
      ],
      "metadata": {
        "id": "a0j-nYnNh6so"
      },
      "execution_count": null,
      "outputs": []
    }
  ]
}